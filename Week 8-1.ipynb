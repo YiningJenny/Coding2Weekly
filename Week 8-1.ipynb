{
 "cells": [
  {
   "cell_type": "code",
   "execution_count": 1,
   "id": "4039be5b",
   "metadata": {},
   "outputs": [],
   "source": [
    "from __future__ import absolute_import, division, print_function, unicode_literals\n",
    "import tensorflow as tf"
   ]
  },
  {
   "cell_type": "code",
   "execution_count": 2,
   "id": "9867ab66",
   "metadata": {},
   "outputs": [
    {
     "name": "stdout",
     "output_type": "stream",
     "text": [
      "TensorFlow version: 2.11.0\n"
     ]
    }
   ],
   "source": [
    "print(\"TensorFlow version:\", tf.__version__)"
   ]
  },
  {
   "cell_type": "code",
   "execution_count": 3,
   "id": "e4aa334e",
   "metadata": {},
   "outputs": [
    {
     "name": "stdout",
     "output_type": "stream",
     "text": [
      "Downloading data from https://storage.googleapis.com/tensorflow/tf-keras-datasets/mnist.npz\n",
      "11490434/11490434 [==============================] - 1s 0us/step\n"
     ]
    }
   ],
   "source": [
    "'''\n",
    "加载并准备mnist数据集。图像的像素值范围从 0 到 255。通过将值除255以将这些值缩放到 0 到 1 的范围255.0。\n",
    "这还将样本数据从整数转换为浮点数\n",
    "'''\n",
    "\n",
    "mnist = tf.keras.datasets.mnist\n",
    "\n",
    "(x_train, y_train), (x_test, y_test) = mnist.load_data()\n",
    "x_train, x_test = x_train / 255.0, x_test / 255.0"
   ]
  },
  {
   "cell_type": "code",
   "execution_count": 4,
   "id": "61f9a901",
   "metadata": {},
   "outputs": [],
   "source": [
    "#建立一个机器学习模型：\n",
    "model = tf.keras.models.Sequential([\n",
    "  tf.keras.layers.Flatten(input_shape=(28, 28)),\n",
    "  tf.keras.layers.Dense(128, activation='relu'),\n",
    "  tf.keras.layers.Dropout(0.2),\n",
    "  tf.keras.layers.Dense(10)\n",
    "])\n",
    "'''\n",
    "Sequential 对于堆叠层很有用，其中每一层都有一个输入张量和一个输出张量。层是具有已知数学结构的函数，可以重复使用并具有可训练的变量。\n",
    "大多数 TensorFlow 模型由层组成。此模型使用flatten, dense和dropout层。\n",
    "'''"
   ]
  },
  {
   "cell_type": "code",
   "execution_count": 5,
   "id": "600460d1",
   "metadata": {},
   "outputs": [
    {
     "data": {
      "text/plain": [
       "array([[-0.37804273, -0.4494687 , -0.14929909,  0.47527167,  0.87909317,\n",
       "        -0.17083329,  0.12572944,  0.4083663 , -0.4640041 ,  0.61762613]],\n",
       "      dtype=float32)"
      ]
     },
     "execution_count": 5,
     "metadata": {},
     "output_type": "execute_result"
    }
   ],
   "source": [
    "#对于每个示例，模型返回一个logits或log-odds分数向量，每个类一个。\n",
    "predictions = model(x_train[:1]).numpy()\n",
    "predictions"
   ]
  },
  {
   "cell_type": "code",
   "execution_count": 6,
   "id": "53be1907",
   "metadata": {},
   "outputs": [
    {
     "data": {
      "text/plain": [
       "array([[0.05631997, 0.05243756, 0.07079531, 0.1322063 , 0.19798377,\n",
       "        0.06928708, 0.09320686, 0.12365039, 0.05168087, 0.1524319 ]],\n",
       "      dtype=float32)"
      ]
     },
     "execution_count": 6,
     "metadata": {},
     "output_type": "execute_result"
    }
   ],
   "source": [
    "# 该tf.nn.softmax函数将这些 logits 转换为每个类别的概率：\n",
    "tf.nn.softmax(predictions).numpy()"
   ]
  },
  {
   "cell_type": "code",
   "execution_count": 7,
   "id": "782303fc",
   "metadata": {},
   "outputs": [],
   "source": [
    "#使用 定义训练损失函数losses.SparseCategoricalCrossentropy：\n",
    "loss_fn = tf.keras.losses.SparseCategoricalCrossentropy(from_logits=True)\n",
    "'''\n",
    "损失函数采用地面真值向量和逻辑向量，并返回每个示例的标量损失。此损失等于真实类别的负对数概率：如果模型确定类别正确，则损失为零。\n",
    "\n",
    "这个未经训练的模型给出的概率接近随机（每个类别为 1/10），因此初始损失应该接近-tf.math.log(1/10) ~= 2.3.'''"
   ]
  },
  {
   "cell_type": "code",
   "execution_count": 8,
   "id": "1044398b",
   "metadata": {},
   "outputs": [
    {
     "data": {
      "text/plain": [
       "2.6694968"
      ]
     },
     "execution_count": 8,
     "metadata": {},
     "output_type": "execute_result"
    }
   ],
   "source": [
    "loss_fn(y_train[:1], predictions).numpy()"
   ]
  },
  {
   "cell_type": "code",
   "execution_count": 9,
   "id": "ea0cd40a",
   "metadata": {},
   "outputs": [],
   "source": [
    "'''\n",
    "在开始训练之前，使用 Keras 配置和编译模型Model.compile。\n",
    "将类设置optimizer为adam，将 设置loss为您之前定义的函数，并通过将参数设置为 来loss_fn指定要为模型评估的指标。metricsaccuracy'''\n",
    "model.compile(optimizer='adam',\n",
    "              loss=loss_fn,\n",
    "              metrics=['accuracy'])"
   ]
  },
  {
   "cell_type": "code",
   "execution_count": 10,
   "id": "4656a755",
   "metadata": {},
   "outputs": [
    {
     "name": "stdout",
     "output_type": "stream",
     "text": [
      "Epoch 1/5\n",
      "1875/1875 [==============================] - 4s 2ms/step - loss: 0.2966 - accuracy: 0.9144\n",
      "Epoch 2/5\n",
      "1875/1875 [==============================] - 3s 1ms/step - loss: 0.1448 - accuracy: 0.9575\n",
      "Epoch 3/5\n",
      "1875/1875 [==============================] - 3s 1ms/step - loss: 0.1085 - accuracy: 0.9668\n",
      "Epoch 4/5\n",
      "1875/1875 [==============================] - 3s 2ms/step - loss: 0.0897 - accuracy: 0.9724\n",
      "Epoch 5/5\n",
      "1875/1875 [==============================] - 3s 2ms/step - loss: 0.0752 - accuracy: 0.9771\n"
     ]
    },
    {
     "data": {
      "text/plain": [
       "<keras.callbacks.History at 0x2e1a67a7ac0>"
      ]
     },
     "execution_count": 10,
     "metadata": {},
     "output_type": "execute_result"
    }
   ],
   "source": [
    "#使用该Model.fit方法调整您的模型参数并最大程度地减少损失：\n",
    "model.fit(x_train, y_train, epochs=5)"
   ]
  },
  {
   "cell_type": "code",
   "execution_count": 11,
   "id": "33ecb913",
   "metadata": {},
   "outputs": [
    {
     "name": "stdout",
     "output_type": "stream",
     "text": [
      "313/313 - 1s - loss: 0.0740 - accuracy: 0.9776 - 754ms/epoch - 2ms/step\n"
     ]
    },
    {
     "data": {
      "text/plain": [
       "[0.07400603592395782, 0.9775999784469604]"
      ]
     },
     "execution_count": 11,
     "metadata": {},
     "output_type": "execute_result"
    }
   ],
   "source": [
    "#该方法通常在验证集或测试集Model.evaluate上检查模型的性能。\n",
    "model.evaluate(x_test,  y_test, verbose=2)"
   ]
  },
  {
   "cell_type": "code",
   "execution_count": null,
   "id": "8aa19c91",
   "metadata": {},
   "outputs": [],
   "source": [
    "#现在，图像分类器在此数据集上的训练准确度约为 98%。要了解更多信息，请阅读TensorFlow 教程。\n",
    "#如果你想让你的模型返回一个概率，你可以包装训练好的模型，并将 softmax 附加到它：\n",
    "probability_model = tf.keras.Sequential([\n",
    "  model,\n",
    "  tf.keras.layers.Softmax()\n",
    "])\n",
    "probability_model(x_test[:5])"
   ]
  },
  {
   "cell_type": "code",
   "execution_count": null,
   "id": "85668fd9",
   "metadata": {},
   "outputs": [],
   "source": []
  }
 ],
 "metadata": {
  "kernelspec": {
   "display_name": "Python 3 (ipykernel)",
   "language": "python",
   "name": "python3"
  },
  "language_info": {
   "codemirror_mode": {
    "name": "ipython",
    "version": 3
   },
   "file_extension": ".py",
   "mimetype": "text/x-python",
   "name": "python",
   "nbconvert_exporter": "python",
   "pygments_lexer": "ipython3",
   "version": "3.9.16"
  }
 },
 "nbformat": 4,
 "nbformat_minor": 5
}
