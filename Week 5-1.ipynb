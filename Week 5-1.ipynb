{
 "cells": [
  {
   "cell_type": "code",
   "execution_count": 1,
   "id": "f9f95791",
   "metadata": {},
   "outputs": [
    {
     "name": "stdout",
     "output_type": "stream",
     "text": [
      "hi\n"
     ]
    }
   ],
   "source": [
    "print('hi')"
   ]
  },
  {
   "cell_type": "code",
   "execution_count": 2,
   "id": "43387911",
   "metadata": {},
   "outputs": [
    {
     "name": "stdout",
     "output_type": "stream",
     "text": [
      "Num GPUs Available:  0\n"
     ]
    }
   ],
   "source": [
    "import tensorflow as tf\n",
    "print(\"Num GPUs Available: \", len(tf.config.experimental.list_physical_devices('GPU')))"
   ]
  },
  {
   "cell_type": "code",
   "execution_count": null,
   "id": "44bfb108",
   "metadata": {},
   "outputs": [],
   "source": []
  },
  {
   "cell_type": "code",
   "execution_count": 3,
   "id": "6b995ee6",
   "metadata": {},
   "outputs": [
    {
     "name": "stdout",
     "output_type": "stream",
     "text": [
      "Num GPUs Available:  0\n"
     ]
    }
   ],
   "source": [
    "import tensorflow as tf\n",
    "print(\"Num GPUs Available: \", len(tf.config.experimental.list_physical_devices('GPU')))"
   ]
  },
  {
   "cell_type": "code",
   "execution_count": 25,
   "id": "afcead3d",
   "metadata": {},
   "outputs": [
    {
     "name": "stdout",
     "output_type": "stream",
     "text": [
      "0.0\n",
      "3.14\n",
      "6.28\n",
      "9.42\n",
      "12.56\n",
      "15.700000000000001\n",
      "18.84\n",
      "21.98\n",
      "25.12\n",
      "28.26\n"
     ]
    }
   ],
   "source": [
    "x = 5\n",
    "y = 6\n",
    "z = \"3.14\"\n",
    "myPI = 3.14\n",
    "#print('Hello Jenny {},{},{}'.format(x,y,z))\n",
    "#type(z)\n",
    "myList = [\"creative\",\"computing\",\"coding\",2]\n",
    "#print(myList[0][1])\n",
    "myDict = {\n",
    "    \"artist\":'Jenny',\n",
    "    \"artwork\":'nothing inside',\n",
    "    \"creative\":True\n",
    "         }\n",
    "#print(myDict[\"artist\"])\n",
    "'''\n",
    "if x < y:\n",
    "    if x == 100:\n",
    "        print(\"x = {}\".format(x))\n",
    "    else:\n",
    "        print(\"x != 100\")'''\n",
    "def myForLoopFunc(x):\n",
    "    for i in range(10):\n",
    "        i = myPI * i\n",
    "        print (i)\n",
    "myForLoopFunc(123123)"
   ]
  },
  {
   "cell_type": "code",
   "execution_count": null,
   "id": "4d1439f0",
   "metadata": {},
   "outputs": [],
   "source": []
  }
 ],
 "metadata": {
  "kernelspec": {
   "display_name": "Python 3 (ipykernel)",
   "language": "python",
   "name": "python3"
  },
  "language_info": {
   "codemirror_mode": {
    "name": "ipython",
    "version": 3
   },
   "file_extension": ".py",
   "mimetype": "text/x-python",
   "name": "python",
   "nbconvert_exporter": "python",
   "pygments_lexer": "ipython3",
   "version": "3.9.16"
  }
 },
 "nbformat": 4,
 "nbformat_minor": 5
}
